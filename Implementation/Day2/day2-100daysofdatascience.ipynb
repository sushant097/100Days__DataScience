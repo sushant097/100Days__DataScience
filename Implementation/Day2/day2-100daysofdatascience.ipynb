{
 "cells": [
  {
   "cell_type": "markdown",
   "id": "2652b41a",
   "metadata": {
    "papermill": {
     "duration": 0.014534,
     "end_time": "2024-08-27T21:37:16.376770",
     "exception": false,
     "start_time": "2024-08-27T21:37:16.362236",
     "status": "completed"
    },
    "tags": []
   },
   "source": [
    "![image](https://github.com/user-attachments/assets/09bc4302-ab25-4ec0-971b-5732b28a5ef7)\n"
   ]
  },
  {
   "cell_type": "markdown",
   "id": "a1cfdf9d",
   "metadata": {
    "papermill": {
     "duration": 0.01377,
     "end_time": "2024-08-27T21:37:16.404524",
     "exception": false,
     "start_time": "2024-08-27T21:37:16.390754",
     "status": "completed"
    },
    "tags": []
   },
   "source": [
    "# Day 2 - 100 Days of Data Science"
   ]
  },
  {
   "cell_type": "markdown",
   "id": "48b76520",
   "metadata": {
    "papermill": {
     "duration": 0.013133,
     "end_time": "2024-08-27T21:37:16.431140",
     "exception": false,
     "start_time": "2024-08-27T21:37:16.418007",
     "status": "completed"
    },
    "tags": []
   },
   "source": [
    "In this notebook we will do Exploratory Data Analysis (EDA) and build a suitable machine learning model for prediction. "
   ]
  },
  {
   "cell_type": "code",
   "execution_count": 1,
   "id": "21f8d278",
   "metadata": {
    "execution": {
     "iopub.execute_input": "2024-08-27T21:37:16.460287Z",
     "iopub.status.busy": "2024-08-27T21:37:16.459833Z",
     "iopub.status.idle": "2024-08-27T21:37:19.211484Z",
     "shell.execute_reply": "2024-08-27T21:37:19.210069Z"
    },
    "papermill": {
     "duration": 2.769825,
     "end_time": "2024-08-27T21:37:19.214841",
     "exception": false,
     "start_time": "2024-08-27T21:37:16.445016",
     "status": "completed"
    },
    "tags": []
   },
   "outputs": [],
   "source": [
    "# imports\n",
    "import pandas as pd # to read data\n",
    "import seaborn as sns # to visualize the data\n",
    "from sklearn.model_selection import train_test_split # separation of train-test\n",
    "from sklearn.linear_model import LogisticRegression # binary classification model\n",
    "from sklearn.metrics import classification_report, accuracy_score, confusion_matrix # metrics\n",
    "from sklearn.preprocessing import StandardScaler # preprocessing modules\n",
    "import matplotlib.pyplot as plt"
   ]
  },
  {
   "cell_type": "markdown",
   "id": "fb8c3d12",
   "metadata": {
    "papermill": {
     "duration": 0.012941,
     "end_time": "2024-08-27T21:37:19.241271",
     "exception": false,
     "start_time": "2024-08-27T21:37:19.228330",
     "status": "completed"
    },
    "tags": []
   },
   "source": [
    "### Step 1: Load and Inspect the Dataset\n",
    "* Load the Dataset: First, we'll load the dataset to understand its structure.\n",
    "* Initial Inspection: We'll inspect the first few rows, check for null values, and get an overview of the data types."
   ]
  },
  {
   "cell_type": "code",
   "execution_count": 2,
   "id": "12a1815e",
   "metadata": {
    "execution": {
     "iopub.execute_input": "2024-08-27T21:37:19.270475Z",
     "iopub.status.busy": "2024-08-27T21:37:19.269885Z",
     "iopub.status.idle": "2024-08-27T21:37:19.507159Z",
     "shell.execute_reply": "2024-08-27T21:37:19.505725Z"
    },
    "papermill": {
     "duration": 0.255477,
     "end_time": "2024-08-27T21:37:19.510175",
     "exception": false,
     "start_time": "2024-08-27T21:37:19.254698",
     "status": "completed"
    },
    "tags": []
   },
   "outputs": [],
   "source": [
    "data = pd.read_csv(\"/kaggle/input/adult-income-dataset/adult.csv\")"
   ]
  },
  {
   "cell_type": "code",
   "execution_count": 3,
   "id": "a0ee422a",
   "metadata": {
    "execution": {
     "iopub.execute_input": "2024-08-27T21:37:19.539037Z",
     "iopub.status.busy": "2024-08-27T21:37:19.538480Z",
     "iopub.status.idle": "2024-08-27T21:37:19.570020Z",
     "shell.execute_reply": "2024-08-27T21:37:19.568643Z"
    },
    "papermill": {
     "duration": 0.049028,
     "end_time": "2024-08-27T21:37:19.572486",
     "exception": false,
     "start_time": "2024-08-27T21:37:19.523458",
     "status": "completed"
    },
    "tags": []
   },
   "outputs": [
    {
     "data": {
      "text/html": [
       "<div>\n",
       "<style scoped>\n",
       "    .dataframe tbody tr th:only-of-type {\n",
       "        vertical-align: middle;\n",
       "    }\n",
       "\n",
       "    .dataframe tbody tr th {\n",
       "        vertical-align: top;\n",
       "    }\n",
       "\n",
       "    .dataframe thead th {\n",
       "        text-align: right;\n",
       "    }\n",
       "</style>\n",
       "<table border=\"1\" class=\"dataframe\">\n",
       "  <thead>\n",
       "    <tr style=\"text-align: right;\">\n",
       "      <th></th>\n",
       "      <th>age</th>\n",
       "      <th>workclass</th>\n",
       "      <th>fnlwgt</th>\n",
       "      <th>education</th>\n",
       "      <th>educational-num</th>\n",
       "      <th>marital-status</th>\n",
       "      <th>occupation</th>\n",
       "      <th>relationship</th>\n",
       "      <th>race</th>\n",
       "      <th>gender</th>\n",
       "      <th>capital-gain</th>\n",
       "      <th>capital-loss</th>\n",
       "      <th>hours-per-week</th>\n",
       "      <th>native-country</th>\n",
       "      <th>income</th>\n",
       "    </tr>\n",
       "  </thead>\n",
       "  <tbody>\n",
       "    <tr>\n",
       "      <th>0</th>\n",
       "      <td>25</td>\n",
       "      <td>Private</td>\n",
       "      <td>226802</td>\n",
       "      <td>11th</td>\n",
       "      <td>7</td>\n",
       "      <td>Never-married</td>\n",
       "      <td>Machine-op-inspct</td>\n",
       "      <td>Own-child</td>\n",
       "      <td>Black</td>\n",
       "      <td>Male</td>\n",
       "      <td>0</td>\n",
       "      <td>0</td>\n",
       "      <td>40</td>\n",
       "      <td>United-States</td>\n",
       "      <td>&lt;=50K</td>\n",
       "    </tr>\n",
       "    <tr>\n",
       "      <th>1</th>\n",
       "      <td>38</td>\n",
       "      <td>Private</td>\n",
       "      <td>89814</td>\n",
       "      <td>HS-grad</td>\n",
       "      <td>9</td>\n",
       "      <td>Married-civ-spouse</td>\n",
       "      <td>Farming-fishing</td>\n",
       "      <td>Husband</td>\n",
       "      <td>White</td>\n",
       "      <td>Male</td>\n",
       "      <td>0</td>\n",
       "      <td>0</td>\n",
       "      <td>50</td>\n",
       "      <td>United-States</td>\n",
       "      <td>&lt;=50K</td>\n",
       "    </tr>\n",
       "    <tr>\n",
       "      <th>2</th>\n",
       "      <td>28</td>\n",
       "      <td>Local-gov</td>\n",
       "      <td>336951</td>\n",
       "      <td>Assoc-acdm</td>\n",
       "      <td>12</td>\n",
       "      <td>Married-civ-spouse</td>\n",
       "      <td>Protective-serv</td>\n",
       "      <td>Husband</td>\n",
       "      <td>White</td>\n",
       "      <td>Male</td>\n",
       "      <td>0</td>\n",
       "      <td>0</td>\n",
       "      <td>40</td>\n",
       "      <td>United-States</td>\n",
       "      <td>&gt;50K</td>\n",
       "    </tr>\n",
       "    <tr>\n",
       "      <th>3</th>\n",
       "      <td>44</td>\n",
       "      <td>Private</td>\n",
       "      <td>160323</td>\n",
       "      <td>Some-college</td>\n",
       "      <td>10</td>\n",
       "      <td>Married-civ-spouse</td>\n",
       "      <td>Machine-op-inspct</td>\n",
       "      <td>Husband</td>\n",
       "      <td>Black</td>\n",
       "      <td>Male</td>\n",
       "      <td>7688</td>\n",
       "      <td>0</td>\n",
       "      <td>40</td>\n",
       "      <td>United-States</td>\n",
       "      <td>&gt;50K</td>\n",
       "    </tr>\n",
       "    <tr>\n",
       "      <th>4</th>\n",
       "      <td>18</td>\n",
       "      <td>?</td>\n",
       "      <td>103497</td>\n",
       "      <td>Some-college</td>\n",
       "      <td>10</td>\n",
       "      <td>Never-married</td>\n",
       "      <td>?</td>\n",
       "      <td>Own-child</td>\n",
       "      <td>White</td>\n",
       "      <td>Female</td>\n",
       "      <td>0</td>\n",
       "      <td>0</td>\n",
       "      <td>30</td>\n",
       "      <td>United-States</td>\n",
       "      <td>&lt;=50K</td>\n",
       "    </tr>\n",
       "  </tbody>\n",
       "</table>\n",
       "</div>"
      ],
      "text/plain": [
       "   age  workclass  fnlwgt     education  educational-num      marital-status  \\\n",
       "0   25    Private  226802          11th                7       Never-married   \n",
       "1   38    Private   89814       HS-grad                9  Married-civ-spouse   \n",
       "2   28  Local-gov  336951    Assoc-acdm               12  Married-civ-spouse   \n",
       "3   44    Private  160323  Some-college               10  Married-civ-spouse   \n",
       "4   18          ?  103497  Some-college               10       Never-married   \n",
       "\n",
       "          occupation relationship   race  gender  capital-gain  capital-loss  \\\n",
       "0  Machine-op-inspct    Own-child  Black    Male             0             0   \n",
       "1    Farming-fishing      Husband  White    Male             0             0   \n",
       "2    Protective-serv      Husband  White    Male             0             0   \n",
       "3  Machine-op-inspct      Husband  Black    Male          7688             0   \n",
       "4                  ?    Own-child  White  Female             0             0   \n",
       "\n",
       "   hours-per-week native-country income  \n",
       "0              40  United-States  <=50K  \n",
       "1              50  United-States  <=50K  \n",
       "2              40  United-States   >50K  \n",
       "3              40  United-States   >50K  \n",
       "4              30  United-States  <=50K  "
      ]
     },
     "execution_count": 3,
     "metadata": {},
     "output_type": "execute_result"
    }
   ],
   "source": [
    "data.head()"
   ]
  },
  {
   "cell_type": "markdown",
   "id": "4022c435",
   "metadata": {
    "papermill": {
     "duration": 0.013725,
     "end_time": "2024-08-27T21:37:19.600216",
     "exception": false,
     "start_time": "2024-08-27T21:37:19.586491",
     "status": "completed"
    },
    "tags": []
   },
   "source": [
    "## Step 2: Data Exploration and Cleaning\n",
    "Now that we have loaded the dataset, let's proceed with the following steps:\n",
    "\n",
    "* **Summary Statistics:** Get an overview of the data with summary statistics.\n",
    "* **Missing Values:** Identify missing or problematic values.\n",
    "* **Data Cleaning:** Handle missing or erroneous data.\n",
    "* **Categorical vs Numerical:** Separate the categorical and numerical columns for more targeted analysis."
   ]
  },
  {
   "cell_type": "markdown",
   "id": "64c79173",
   "metadata": {
    "papermill": {
     "duration": 0.013674,
     "end_time": "2024-08-27T21:37:19.627888",
     "exception": false,
     "start_time": "2024-08-27T21:37:19.614214",
     "status": "completed"
    },
    "tags": []
   },
   "source": [
    "#### 2.1 Summary Statistics and Missing Values"
   ]
  },
  {
   "cell_type": "code",
   "execution_count": 4,
   "id": "067db0db",
   "metadata": {
    "execution": {
     "iopub.execute_input": "2024-08-27T21:37:19.657477Z",
     "iopub.status.busy": "2024-08-27T21:37:19.657057Z",
     "iopub.status.idle": "2024-08-27T21:37:19.840870Z",
     "shell.execute_reply": "2024-08-27T21:37:19.839521Z"
    },
    "papermill": {
     "duration": 0.201744,
     "end_time": "2024-08-27T21:37:19.843617",
     "exception": false,
     "start_time": "2024-08-27T21:37:19.641873",
     "status": "completed"
    },
    "tags": []
   },
   "outputs": [
    {
     "data": {
      "text/html": [
       "<div>\n",
       "<style scoped>\n",
       "    .dataframe tbody tr th:only-of-type {\n",
       "        vertical-align: middle;\n",
       "    }\n",
       "\n",
       "    .dataframe tbody tr th {\n",
       "        vertical-align: top;\n",
       "    }\n",
       "\n",
       "    .dataframe thead th {\n",
       "        text-align: right;\n",
       "    }\n",
       "</style>\n",
       "<table border=\"1\" class=\"dataframe\">\n",
       "  <thead>\n",
       "    <tr style=\"text-align: right;\">\n",
       "      <th></th>\n",
       "      <th>age</th>\n",
       "      <th>workclass</th>\n",
       "      <th>fnlwgt</th>\n",
       "      <th>education</th>\n",
       "      <th>educational-num</th>\n",
       "      <th>marital-status</th>\n",
       "      <th>occupation</th>\n",
       "      <th>relationship</th>\n",
       "      <th>race</th>\n",
       "      <th>gender</th>\n",
       "      <th>capital-gain</th>\n",
       "      <th>capital-loss</th>\n",
       "      <th>hours-per-week</th>\n",
       "      <th>native-country</th>\n",
       "      <th>income</th>\n",
       "    </tr>\n",
       "  </thead>\n",
       "  <tbody>\n",
       "    <tr>\n",
       "      <th>count</th>\n",
       "      <td>48842.000000</td>\n",
       "      <td>48842</td>\n",
       "      <td>4.884200e+04</td>\n",
       "      <td>48842</td>\n",
       "      <td>48842.000000</td>\n",
       "      <td>48842</td>\n",
       "      <td>48842</td>\n",
       "      <td>48842</td>\n",
       "      <td>48842</td>\n",
       "      <td>48842</td>\n",
       "      <td>48842.000000</td>\n",
       "      <td>48842.000000</td>\n",
       "      <td>48842.000000</td>\n",
       "      <td>48842</td>\n",
       "      <td>48842</td>\n",
       "    </tr>\n",
       "    <tr>\n",
       "      <th>unique</th>\n",
       "      <td>NaN</td>\n",
       "      <td>9</td>\n",
       "      <td>NaN</td>\n",
       "      <td>16</td>\n",
       "      <td>NaN</td>\n",
       "      <td>7</td>\n",
       "      <td>15</td>\n",
       "      <td>6</td>\n",
       "      <td>5</td>\n",
       "      <td>2</td>\n",
       "      <td>NaN</td>\n",
       "      <td>NaN</td>\n",
       "      <td>NaN</td>\n",
       "      <td>42</td>\n",
       "      <td>2</td>\n",
       "    </tr>\n",
       "    <tr>\n",
       "      <th>top</th>\n",
       "      <td>NaN</td>\n",
       "      <td>Private</td>\n",
       "      <td>NaN</td>\n",
       "      <td>HS-grad</td>\n",
       "      <td>NaN</td>\n",
       "      <td>Married-civ-spouse</td>\n",
       "      <td>Prof-specialty</td>\n",
       "      <td>Husband</td>\n",
       "      <td>White</td>\n",
       "      <td>Male</td>\n",
       "      <td>NaN</td>\n",
       "      <td>NaN</td>\n",
       "      <td>NaN</td>\n",
       "      <td>United-States</td>\n",
       "      <td>&lt;=50K</td>\n",
       "    </tr>\n",
       "    <tr>\n",
       "      <th>freq</th>\n",
       "      <td>NaN</td>\n",
       "      <td>33906</td>\n",
       "      <td>NaN</td>\n",
       "      <td>15784</td>\n",
       "      <td>NaN</td>\n",
       "      <td>22379</td>\n",
       "      <td>6172</td>\n",
       "      <td>19716</td>\n",
       "      <td>41762</td>\n",
       "      <td>32650</td>\n",
       "      <td>NaN</td>\n",
       "      <td>NaN</td>\n",
       "      <td>NaN</td>\n",
       "      <td>43832</td>\n",
       "      <td>37155</td>\n",
       "    </tr>\n",
       "    <tr>\n",
       "      <th>mean</th>\n",
       "      <td>38.643585</td>\n",
       "      <td>NaN</td>\n",
       "      <td>1.896641e+05</td>\n",
       "      <td>NaN</td>\n",
       "      <td>10.078089</td>\n",
       "      <td>NaN</td>\n",
       "      <td>NaN</td>\n",
       "      <td>NaN</td>\n",
       "      <td>NaN</td>\n",
       "      <td>NaN</td>\n",
       "      <td>1079.067626</td>\n",
       "      <td>87.502314</td>\n",
       "      <td>40.422382</td>\n",
       "      <td>NaN</td>\n",
       "      <td>NaN</td>\n",
       "    </tr>\n",
       "    <tr>\n",
       "      <th>std</th>\n",
       "      <td>13.710510</td>\n",
       "      <td>NaN</td>\n",
       "      <td>1.056040e+05</td>\n",
       "      <td>NaN</td>\n",
       "      <td>2.570973</td>\n",
       "      <td>NaN</td>\n",
       "      <td>NaN</td>\n",
       "      <td>NaN</td>\n",
       "      <td>NaN</td>\n",
       "      <td>NaN</td>\n",
       "      <td>7452.019058</td>\n",
       "      <td>403.004552</td>\n",
       "      <td>12.391444</td>\n",
       "      <td>NaN</td>\n",
       "      <td>NaN</td>\n",
       "    </tr>\n",
       "    <tr>\n",
       "      <th>min</th>\n",
       "      <td>17.000000</td>\n",
       "      <td>NaN</td>\n",
       "      <td>1.228500e+04</td>\n",
       "      <td>NaN</td>\n",
       "      <td>1.000000</td>\n",
       "      <td>NaN</td>\n",
       "      <td>NaN</td>\n",
       "      <td>NaN</td>\n",
       "      <td>NaN</td>\n",
       "      <td>NaN</td>\n",
       "      <td>0.000000</td>\n",
       "      <td>0.000000</td>\n",
       "      <td>1.000000</td>\n",
       "      <td>NaN</td>\n",
       "      <td>NaN</td>\n",
       "    </tr>\n",
       "    <tr>\n",
       "      <th>25%</th>\n",
       "      <td>28.000000</td>\n",
       "      <td>NaN</td>\n",
       "      <td>1.175505e+05</td>\n",
       "      <td>NaN</td>\n",
       "      <td>9.000000</td>\n",
       "      <td>NaN</td>\n",
       "      <td>NaN</td>\n",
       "      <td>NaN</td>\n",
       "      <td>NaN</td>\n",
       "      <td>NaN</td>\n",
       "      <td>0.000000</td>\n",
       "      <td>0.000000</td>\n",
       "      <td>40.000000</td>\n",
       "      <td>NaN</td>\n",
       "      <td>NaN</td>\n",
       "    </tr>\n",
       "    <tr>\n",
       "      <th>50%</th>\n",
       "      <td>37.000000</td>\n",
       "      <td>NaN</td>\n",
       "      <td>1.781445e+05</td>\n",
       "      <td>NaN</td>\n",
       "      <td>10.000000</td>\n",
       "      <td>NaN</td>\n",
       "      <td>NaN</td>\n",
       "      <td>NaN</td>\n",
       "      <td>NaN</td>\n",
       "      <td>NaN</td>\n",
       "      <td>0.000000</td>\n",
       "      <td>0.000000</td>\n",
       "      <td>40.000000</td>\n",
       "      <td>NaN</td>\n",
       "      <td>NaN</td>\n",
       "    </tr>\n",
       "    <tr>\n",
       "      <th>75%</th>\n",
       "      <td>48.000000</td>\n",
       "      <td>NaN</td>\n",
       "      <td>2.376420e+05</td>\n",
       "      <td>NaN</td>\n",
       "      <td>12.000000</td>\n",
       "      <td>NaN</td>\n",
       "      <td>NaN</td>\n",
       "      <td>NaN</td>\n",
       "      <td>NaN</td>\n",
       "      <td>NaN</td>\n",
       "      <td>0.000000</td>\n",
       "      <td>0.000000</td>\n",
       "      <td>45.000000</td>\n",
       "      <td>NaN</td>\n",
       "      <td>NaN</td>\n",
       "    </tr>\n",
       "    <tr>\n",
       "      <th>max</th>\n",
       "      <td>90.000000</td>\n",
       "      <td>NaN</td>\n",
       "      <td>1.490400e+06</td>\n",
       "      <td>NaN</td>\n",
       "      <td>16.000000</td>\n",
       "      <td>NaN</td>\n",
       "      <td>NaN</td>\n",
       "      <td>NaN</td>\n",
       "      <td>NaN</td>\n",
       "      <td>NaN</td>\n",
       "      <td>99999.000000</td>\n",
       "      <td>4356.000000</td>\n",
       "      <td>99.000000</td>\n",
       "      <td>NaN</td>\n",
       "      <td>NaN</td>\n",
       "    </tr>\n",
       "  </tbody>\n",
       "</table>\n",
       "</div>"
      ],
      "text/plain": [
       "                 age workclass        fnlwgt education  educational-num  \\\n",
       "count   48842.000000     48842  4.884200e+04     48842     48842.000000   \n",
       "unique           NaN         9           NaN        16              NaN   \n",
       "top              NaN   Private           NaN   HS-grad              NaN   \n",
       "freq             NaN     33906           NaN     15784              NaN   \n",
       "mean       38.643585       NaN  1.896641e+05       NaN        10.078089   \n",
       "std        13.710510       NaN  1.056040e+05       NaN         2.570973   \n",
       "min        17.000000       NaN  1.228500e+04       NaN         1.000000   \n",
       "25%        28.000000       NaN  1.175505e+05       NaN         9.000000   \n",
       "50%        37.000000       NaN  1.781445e+05       NaN        10.000000   \n",
       "75%        48.000000       NaN  2.376420e+05       NaN        12.000000   \n",
       "max        90.000000       NaN  1.490400e+06       NaN        16.000000   \n",
       "\n",
       "            marital-status      occupation relationship   race gender  \\\n",
       "count                48842           48842        48842  48842  48842   \n",
       "unique                   7              15            6      5      2   \n",
       "top     Married-civ-spouse  Prof-specialty      Husband  White   Male   \n",
       "freq                 22379            6172        19716  41762  32650   \n",
       "mean                   NaN             NaN          NaN    NaN    NaN   \n",
       "std                    NaN             NaN          NaN    NaN    NaN   \n",
       "min                    NaN             NaN          NaN    NaN    NaN   \n",
       "25%                    NaN             NaN          NaN    NaN    NaN   \n",
       "50%                    NaN             NaN          NaN    NaN    NaN   \n",
       "75%                    NaN             NaN          NaN    NaN    NaN   \n",
       "max                    NaN             NaN          NaN    NaN    NaN   \n",
       "\n",
       "        capital-gain  capital-loss  hours-per-week native-country income  \n",
       "count   48842.000000  48842.000000    48842.000000          48842  48842  \n",
       "unique           NaN           NaN             NaN             42      2  \n",
       "top              NaN           NaN             NaN  United-States  <=50K  \n",
       "freq             NaN           NaN             NaN          43832  37155  \n",
       "mean     1079.067626     87.502314       40.422382            NaN    NaN  \n",
       "std      7452.019058    403.004552       12.391444            NaN    NaN  \n",
       "min         0.000000      0.000000        1.000000            NaN    NaN  \n",
       "25%         0.000000      0.000000       40.000000            NaN    NaN  \n",
       "50%         0.000000      0.000000       40.000000            NaN    NaN  \n",
       "75%         0.000000      0.000000       45.000000            NaN    NaN  \n",
       "max     99999.000000   4356.000000       99.000000            NaN    NaN  "
      ]
     },
     "execution_count": 4,
     "metadata": {},
     "output_type": "execute_result"
    }
   ],
   "source": [
    "data.describe(include=\"all\")"
   ]
  },
  {
   "cell_type": "code",
   "execution_count": 5,
   "id": "d7dfbc58",
   "metadata": {
    "execution": {
     "iopub.execute_input": "2024-08-27T21:37:19.875512Z",
     "iopub.status.busy": "2024-08-27T21:37:19.875062Z",
     "iopub.status.idle": "2024-08-27T21:37:19.933802Z",
     "shell.execute_reply": "2024-08-27T21:37:19.932443Z"
    },
    "papermill": {
     "duration": 0.078189,
     "end_time": "2024-08-27T21:37:19.936582",
     "exception": false,
     "start_time": "2024-08-27T21:37:19.858393",
     "status": "completed"
    },
    "tags": []
   },
   "outputs": [
    {
     "data": {
      "text/plain": [
       "age                0\n",
       "workclass          0\n",
       "fnlwgt             0\n",
       "education          0\n",
       "educational-num    0\n",
       "marital-status     0\n",
       "occupation         0\n",
       "relationship       0\n",
       "race               0\n",
       "gender             0\n",
       "capital-gain       0\n",
       "capital-loss       0\n",
       "hours-per-week     0\n",
       "native-country     0\n",
       "income             0\n",
       "dtype: int64"
      ]
     },
     "execution_count": 5,
     "metadata": {},
     "output_type": "execute_result"
    }
   ],
   "source": [
    "# check if there is any null values\n",
    "data.isnull().sum()"
   ]
  },
  {
   "cell_type": "markdown",
   "id": "5bfe8371",
   "metadata": {
    "papermill": {
     "duration": 0.014165,
     "end_time": "2024-08-27T21:37:19.965657",
     "exception": false,
     "start_time": "2024-08-27T21:37:19.951492",
     "status": "completed"
    },
    "tags": []
   },
   "source": [
    "### Step 2.2: Analysis of Findings\n",
    "1. Summary Statistics:\n",
    "\n",
    "* The dataset has 48,842 rows and contains a mix of categorical and numerical features.\n",
    "* There are several categorical features with many unique values, such as **workclass, occupation, native-country**.\n",
    "* The target variable appears to be **income**, which has two unique values: <=50K and >50K.\n",
    "2. Missing Values:\n",
    "\n",
    "* There are no missing values in the dataset, which simplifies the data cleaning process. However, the `?` in the **workclass** and **occupation** fields might represent unknown or missing data, so we'll need to address this."
   ]
  },
  {
   "cell_type": "markdown",
   "id": "fa7bc12a",
   "metadata": {
    "papermill": {
     "duration": 0.014026,
     "end_time": "2024-08-27T21:37:19.994161",
     "exception": false,
     "start_time": "2024-08-27T21:37:19.980135",
     "status": "completed"
    },
    "tags": []
   },
   "source": [
    "### Step 3: Data Cleaning\n",
    "1. **Handle `?` Values:** Replace or remove rows with ? values.\n",
    "2. **Encoding Categorical Variables:** Encode categorical variables to prepare the data for machine learning models.\n"
   ]
  },
  {
   "cell_type": "markdown",
   "id": "b4f22d15",
   "metadata": {
    "papermill": {
     "duration": 0.013947,
     "end_time": "2024-08-27T21:37:20.022392",
     "exception": false,
     "start_time": "2024-08-27T21:37:20.008445",
     "status": "completed"
    },
    "tags": []
   },
   "source": [
    "3.1. **Handle `?` Values**:\n",
    "\n",
    "Let's address the ? values by replacing them with NaN and then deciding whether to drop or impute them."
   ]
  },
  {
   "cell_type": "code",
   "execution_count": 6,
   "id": "17cc17a5",
   "metadata": {
    "execution": {
     "iopub.execute_input": "2024-08-27T21:37:20.053302Z",
     "iopub.status.busy": "2024-08-27T21:37:20.052888Z",
     "iopub.status.idle": "2024-08-27T21:37:20.183709Z",
     "shell.execute_reply": "2024-08-27T21:37:20.181883Z"
    },
    "papermill": {
     "duration": 0.149779,
     "end_time": "2024-08-27T21:37:20.186718",
     "exception": false,
     "start_time": "2024-08-27T21:37:20.036939",
     "status": "completed"
    },
    "tags": []
   },
   "outputs": [
    {
     "name": "stdout",
     "output_type": "stream",
     "text": [
      "age                   0\n",
      "workclass          2799\n",
      "fnlwgt                0\n",
      "education             0\n",
      "educational-num       0\n",
      "marital-status        0\n",
      "occupation         2809\n",
      "relationship          0\n",
      "race                  0\n",
      "gender                0\n",
      "capital-gain          0\n",
      "capital-loss          0\n",
      "hours-per-week        0\n",
      "native-country      857\n",
      "income                0\n",
      "dtype: int64\n"
     ]
    }
   ],
   "source": [
    "# Replace '?' with NaN\n",
    "data.replace('?', pd.NA, inplace=True)\n",
    "\n",
    "# Check for the presence of NaN values after replacement\n",
    "missing_after_replace = data.isna().sum()\n",
    "\n",
    "print(missing_after_replace)"
   ]
  },
  {
   "cell_type": "markdown",
   "id": "eb418491",
   "metadata": {
    "papermill": {
     "duration": 0.014297,
     "end_time": "2024-08-27T21:37:20.216213",
     "exception": false,
     "start_time": "2024-08-27T21:37:20.201916",
     "status": "completed"
    },
    "tags": []
   },
   "source": [
    "### Step 4: Encoding Categorical Variables\n",
    "Since our next step is to prepare the dataset for modeling, we need to convert categorical variables into a format suitable for machine learning algorithms. This usually involves one-hot encoding for nominal categories or label encoding for ordinal categories.\n",
    "\n",
    "**4.1 One-Hot Encoding for Categorical Variables:**\n",
    "\n",
    "Let's perform one-hot encoding on categorical variables."
   ]
  },
  {
   "cell_type": "code",
   "execution_count": 7,
   "id": "147de0fc",
   "metadata": {
    "execution": {
     "iopub.execute_input": "2024-08-27T21:37:20.248035Z",
     "iopub.status.busy": "2024-08-27T21:37:20.247168Z",
     "iopub.status.idle": "2024-08-27T21:37:20.360900Z",
     "shell.execute_reply": "2024-08-27T21:37:20.359501Z"
    },
    "papermill": {
     "duration": 0.132782,
     "end_time": "2024-08-27T21:37:20.363725",
     "exception": false,
     "start_time": "2024-08-27T21:37:20.230943",
     "status": "completed"
    },
    "tags": []
   },
   "outputs": [
    {
     "data": {
      "text/html": [
       "<div>\n",
       "<style scoped>\n",
       "    .dataframe tbody tr th:only-of-type {\n",
       "        vertical-align: middle;\n",
       "    }\n",
       "\n",
       "    .dataframe tbody tr th {\n",
       "        vertical-align: top;\n",
       "    }\n",
       "\n",
       "    .dataframe thead th {\n",
       "        text-align: right;\n",
       "    }\n",
       "</style>\n",
       "<table border=\"1\" class=\"dataframe\">\n",
       "  <thead>\n",
       "    <tr style=\"text-align: right;\">\n",
       "      <th></th>\n",
       "      <th>age</th>\n",
       "      <th>fnlwgt</th>\n",
       "      <th>educational-num</th>\n",
       "      <th>capital-gain</th>\n",
       "      <th>capital-loss</th>\n",
       "      <th>hours-per-week</th>\n",
       "      <th>workclass_Local-gov</th>\n",
       "      <th>workclass_Never-worked</th>\n",
       "      <th>workclass_Private</th>\n",
       "      <th>workclass_Self-emp-inc</th>\n",
       "      <th>...</th>\n",
       "      <th>native-country_Puerto-Rico</th>\n",
       "      <th>native-country_Scotland</th>\n",
       "      <th>native-country_South</th>\n",
       "      <th>native-country_Taiwan</th>\n",
       "      <th>native-country_Thailand</th>\n",
       "      <th>native-country_Trinadad&amp;Tobago</th>\n",
       "      <th>native-country_United-States</th>\n",
       "      <th>native-country_Vietnam</th>\n",
       "      <th>native-country_Yugoslavia</th>\n",
       "      <th>income_&gt;50K</th>\n",
       "    </tr>\n",
       "  </thead>\n",
       "  <tbody>\n",
       "    <tr>\n",
       "      <th>0</th>\n",
       "      <td>25</td>\n",
       "      <td>226802</td>\n",
       "      <td>7</td>\n",
       "      <td>0</td>\n",
       "      <td>0</td>\n",
       "      <td>40</td>\n",
       "      <td>False</td>\n",
       "      <td>False</td>\n",
       "      <td>True</td>\n",
       "      <td>False</td>\n",
       "      <td>...</td>\n",
       "      <td>False</td>\n",
       "      <td>False</td>\n",
       "      <td>False</td>\n",
       "      <td>False</td>\n",
       "      <td>False</td>\n",
       "      <td>False</td>\n",
       "      <td>True</td>\n",
       "      <td>False</td>\n",
       "      <td>False</td>\n",
       "      <td>False</td>\n",
       "    </tr>\n",
       "    <tr>\n",
       "      <th>1</th>\n",
       "      <td>38</td>\n",
       "      <td>89814</td>\n",
       "      <td>9</td>\n",
       "      <td>0</td>\n",
       "      <td>0</td>\n",
       "      <td>50</td>\n",
       "      <td>False</td>\n",
       "      <td>False</td>\n",
       "      <td>True</td>\n",
       "      <td>False</td>\n",
       "      <td>...</td>\n",
       "      <td>False</td>\n",
       "      <td>False</td>\n",
       "      <td>False</td>\n",
       "      <td>False</td>\n",
       "      <td>False</td>\n",
       "      <td>False</td>\n",
       "      <td>True</td>\n",
       "      <td>False</td>\n",
       "      <td>False</td>\n",
       "      <td>False</td>\n",
       "    </tr>\n",
       "    <tr>\n",
       "      <th>2</th>\n",
       "      <td>28</td>\n",
       "      <td>336951</td>\n",
       "      <td>12</td>\n",
       "      <td>0</td>\n",
       "      <td>0</td>\n",
       "      <td>40</td>\n",
       "      <td>True</td>\n",
       "      <td>False</td>\n",
       "      <td>False</td>\n",
       "      <td>False</td>\n",
       "      <td>...</td>\n",
       "      <td>False</td>\n",
       "      <td>False</td>\n",
       "      <td>False</td>\n",
       "      <td>False</td>\n",
       "      <td>False</td>\n",
       "      <td>False</td>\n",
       "      <td>True</td>\n",
       "      <td>False</td>\n",
       "      <td>False</td>\n",
       "      <td>True</td>\n",
       "    </tr>\n",
       "    <tr>\n",
       "      <th>3</th>\n",
       "      <td>44</td>\n",
       "      <td>160323</td>\n",
       "      <td>10</td>\n",
       "      <td>7688</td>\n",
       "      <td>0</td>\n",
       "      <td>40</td>\n",
       "      <td>False</td>\n",
       "      <td>False</td>\n",
       "      <td>True</td>\n",
       "      <td>False</td>\n",
       "      <td>...</td>\n",
       "      <td>False</td>\n",
       "      <td>False</td>\n",
       "      <td>False</td>\n",
       "      <td>False</td>\n",
       "      <td>False</td>\n",
       "      <td>False</td>\n",
       "      <td>True</td>\n",
       "      <td>False</td>\n",
       "      <td>False</td>\n",
       "      <td>True</td>\n",
       "    </tr>\n",
       "    <tr>\n",
       "      <th>4</th>\n",
       "      <td>18</td>\n",
       "      <td>103497</td>\n",
       "      <td>10</td>\n",
       "      <td>0</td>\n",
       "      <td>0</td>\n",
       "      <td>30</td>\n",
       "      <td>False</td>\n",
       "      <td>False</td>\n",
       "      <td>False</td>\n",
       "      <td>False</td>\n",
       "      <td>...</td>\n",
       "      <td>False</td>\n",
       "      <td>False</td>\n",
       "      <td>False</td>\n",
       "      <td>False</td>\n",
       "      <td>False</td>\n",
       "      <td>False</td>\n",
       "      <td>True</td>\n",
       "      <td>False</td>\n",
       "      <td>False</td>\n",
       "      <td>False</td>\n",
       "    </tr>\n",
       "  </tbody>\n",
       "</table>\n",
       "<p>5 rows × 98 columns</p>\n",
       "</div>"
      ],
      "text/plain": [
       "   age  fnlwgt  educational-num  capital-gain  capital-loss  hours-per-week  \\\n",
       "0   25  226802                7             0             0              40   \n",
       "1   38   89814                9             0             0              50   \n",
       "2   28  336951               12             0             0              40   \n",
       "3   44  160323               10          7688             0              40   \n",
       "4   18  103497               10             0             0              30   \n",
       "\n",
       "   workclass_Local-gov  workclass_Never-worked  workclass_Private  \\\n",
       "0                False                   False               True   \n",
       "1                False                   False               True   \n",
       "2                 True                   False              False   \n",
       "3                False                   False               True   \n",
       "4                False                   False              False   \n",
       "\n",
       "   workclass_Self-emp-inc  ...  native-country_Puerto-Rico  \\\n",
       "0                   False  ...                       False   \n",
       "1                   False  ...                       False   \n",
       "2                   False  ...                       False   \n",
       "3                   False  ...                       False   \n",
       "4                   False  ...                       False   \n",
       "\n",
       "   native-country_Scotland  native-country_South  native-country_Taiwan  \\\n",
       "0                    False                 False                  False   \n",
       "1                    False                 False                  False   \n",
       "2                    False                 False                  False   \n",
       "3                    False                 False                  False   \n",
       "4                    False                 False                  False   \n",
       "\n",
       "   native-country_Thailand  native-country_Trinadad&Tobago  \\\n",
       "0                    False                           False   \n",
       "1                    False                           False   \n",
       "2                    False                           False   \n",
       "3                    False                           False   \n",
       "4                    False                           False   \n",
       "\n",
       "   native-country_United-States  native-country_Vietnam  \\\n",
       "0                          True                   False   \n",
       "1                          True                   False   \n",
       "2                          True                   False   \n",
       "3                          True                   False   \n",
       "4                          True                   False   \n",
       "\n",
       "   native-country_Yugoslavia  income_>50K  \n",
       "0                      False        False  \n",
       "1                      False        False  \n",
       "2                      False         True  \n",
       "3                      False         True  \n",
       "4                      False        False  \n",
       "\n",
       "[5 rows x 98 columns]"
      ]
     },
     "execution_count": 7,
     "metadata": {},
     "output_type": "execute_result"
    }
   ],
   "source": [
    "# One-hot encoding categorical variables\n",
    "data_encoded = pd.get_dummies(data, drop_first=True)\n",
    "\n",
    "# Display the first few rows of the encoded dataset\n",
    "data_encoded.head()\n"
   ]
  },
  {
   "cell_type": "code",
   "execution_count": 8,
   "id": "51004e13",
   "metadata": {
    "execution": {
     "iopub.execute_input": "2024-08-27T21:37:20.398162Z",
     "iopub.status.busy": "2024-08-27T21:37:20.397686Z",
     "iopub.status.idle": "2024-08-27T21:37:20.404449Z",
     "shell.execute_reply": "2024-08-27T21:37:20.403094Z"
    },
    "papermill": {
     "duration": 0.027956,
     "end_time": "2024-08-27T21:37:20.407208",
     "exception": false,
     "start_time": "2024-08-27T21:37:20.379252",
     "status": "completed"
    },
    "tags": []
   },
   "outputs": [
    {
     "name": "stdout",
     "output_type": "stream",
     "text": [
      "98\n"
     ]
    }
   ],
   "source": [
    "print(len(data_encoded.columns))"
   ]
  },
  {
   "cell_type": "markdown",
   "id": "97a40601",
   "metadata": {
    "papermill": {
     "duration": 0.014936,
     "end_time": "2024-08-27T21:37:20.437609",
     "exception": false,
     "start_time": "2024-08-27T21:37:20.422673",
     "status": "completed"
    },
    "tags": []
   },
   "source": [
    "The dataset has been successfully one-hot encoded, resulting in 101 columns. The target variable income has been encoded into a binary variable, with `income_>50K` representing whether an individual's income is greater than $50K."
   ]
  },
  {
   "cell_type": "markdown",
   "id": "8cc55414",
   "metadata": {
    "papermill": {
     "duration": 0.014941,
     "end_time": "2024-08-27T21:37:20.467773",
     "exception": false,
     "start_time": "2024-08-27T21:37:20.452832",
     "status": "completed"
    },
    "tags": []
   },
   "source": [
    "### Step 5: Splitting the Data\n",
    "\n",
    "Now, we will split the dataset into training and testing sets to evaluate the model's performance.\n",
    "\n"
   ]
  },
  {
   "cell_type": "code",
   "execution_count": 9,
   "id": "2ff97da8",
   "metadata": {
    "execution": {
     "iopub.execute_input": "2024-08-27T21:37:20.500377Z",
     "iopub.status.busy": "2024-08-27T21:37:20.499885Z",
     "iopub.status.idle": "2024-08-27T21:37:20.531212Z",
     "shell.execute_reply": "2024-08-27T21:37:20.529954Z"
    },
    "papermill": {
     "duration": 0.05106,
     "end_time": "2024-08-27T21:37:20.534246",
     "exception": false,
     "start_time": "2024-08-27T21:37:20.483186",
     "status": "completed"
    },
    "tags": []
   },
   "outputs": [],
   "source": [
    "# Separate features and target\n",
    "X = data_encoded.drop('income_>50K', axis=1)\n",
    "y = data_encoded['income_>50K']\n",
    "\n",
    "# SPlit the data into training and testing sets\n",
    "X_train, X_test, y_train, y_test = train_test_split(X, y, test_size=0.3, random_state=42)"
   ]
  },
  {
   "cell_type": "code",
   "execution_count": 10,
   "id": "b997d18a",
   "metadata": {
    "execution": {
     "iopub.execute_input": "2024-08-27T21:37:20.567555Z",
     "iopub.status.busy": "2024-08-27T21:37:20.566323Z",
     "iopub.status.idle": "2024-08-27T21:37:20.575175Z",
     "shell.execute_reply": "2024-08-27T21:37:20.573861Z"
    },
    "papermill": {
     "duration": 0.028431,
     "end_time": "2024-08-27T21:37:20.578058",
     "exception": false,
     "start_time": "2024-08-27T21:37:20.549627",
     "status": "completed"
    },
    "tags": []
   },
   "outputs": [
    {
     "data": {
      "text/plain": [
       "((34189, 97), (14653, 97), (34189,), (14653,))"
      ]
     },
     "execution_count": 10,
     "metadata": {},
     "output_type": "execute_result"
    }
   ],
   "source": [
    "X_train.shape, X_test.shape, y_train.shape, y_test.shape\n"
   ]
  },
  {
   "cell_type": "markdown",
   "id": "0790fd64",
   "metadata": {
    "papermill": {
     "duration": 0.015306,
     "end_time": "2024-08-27T21:37:20.608916",
     "exception": false,
     "start_time": "2024-08-27T21:37:20.593610",
     "status": "completed"
    },
    "tags": []
   },
   "source": [
    "The data has been successfully split into training and testing sets:\n",
    "\n",
    "* **Training Set:** 34,189 samples with 100 features.\n",
    "* **Testing Set:** 14,653 samples with 100 features."
   ]
  },
  {
   "cell_type": "markdown",
   "id": "0634f64c",
   "metadata": {
    "papermill": {
     "duration": 0.015093,
     "end_time": "2024-08-27T21:37:20.639362",
     "exception": false,
     "start_time": "2024-08-27T21:37:20.624269",
     "status": "completed"
    },
    "tags": []
   },
   "source": [
    "### Step 6: Building and Training the Machine Learning Model\n",
    "We'll now build a machine learning model to predict income. For simplicity, I'll start with a Logistic Regression model, which is suitable for binary classification tasks."
   ]
  },
  {
   "cell_type": "code",
   "execution_count": 11,
   "id": "e3e7d7b4",
   "metadata": {
    "execution": {
     "iopub.execute_input": "2024-08-27T21:37:20.672524Z",
     "iopub.status.busy": "2024-08-27T21:37:20.671424Z",
     "iopub.status.idle": "2024-08-27T21:37:21.512154Z",
     "shell.execute_reply": "2024-08-27T21:37:21.510860Z"
    },
    "papermill": {
     "duration": 0.862543,
     "end_time": "2024-08-27T21:37:21.517220",
     "exception": false,
     "start_time": "2024-08-27T21:37:20.654677",
     "status": "completed"
    },
    "tags": []
   },
   "outputs": [
    {
     "name": "stdout",
     "output_type": "stream",
     "text": [
      "0.8044086535180509\n",
      "              precision    recall  f1-score   support\n",
      "\n",
      "       False       0.81      0.97      0.88     11233\n",
      "        True       0.72      0.27      0.39      3420\n",
      "\n",
      "    accuracy                           0.80     14653\n",
      "   macro avg       0.76      0.62      0.64     14653\n",
      "weighted avg       0.79      0.80      0.77     14653\n",
      "\n"
     ]
    }
   ],
   "source": [
    "# initialize the logistic regression model\n",
    "model = LogisticRegression(max_iter=1000)\n",
    "\n",
    "# Train the model \n",
    "model.fit(X_train, y_train)\n",
    "\n",
    "# Predict on the test set\n",
    "y_pred = model.predict(X_test)\n",
    "\n",
    "# Evaluate the model\n",
    "accuracy = accuracy_score(y_test, y_pred)\n",
    "report = classification_report(y_test, y_pred)\n",
    "\n",
    "print(accuracy)\n",
    "print(report)"
   ]
  },
  {
   "cell_type": "markdown",
   "id": "50099407",
   "metadata": {
    "papermill": {
     "duration": 0.021884,
     "end_time": "2024-08-27T21:37:21.573057",
     "exception": false,
     "start_time": "2024-08-27T21:37:21.551173",
     "status": "completed"
    },
    "tags": []
   },
   "source": [
    "\n",
    "\n",
    "### Step 7: Model Evaluation\n",
    "\n",
    "The Logistic Regression model achieved the following performance on the test set:\n",
    "\n",
    "- **Accuracy**: 80.44%\n",
    "- **Classification Report**:\n",
    "  - **Class 0 (<=50K)**:\n",
    "    - Precision: 0.81\n",
    "    - Recall: 0.97\n",
    "    - F1-Score: 0.88\n",
    "  - **Class 1 (>50K)**:\n",
    "    - Precision: 0.72\n",
    "    - Recall: 0.27\n",
    "    - F1-Score: 0.39\n",
    "\n",
    "### Analysis:\n",
    "- The model performs well in predicting the majority class (<=50K) with high precision and recall.\n",
    "- However, it struggles with the minority class (>50K), showing lower recall and F1-score, indicating that the model has difficulty identifying higher income individuals."
   ]
  },
  {
   "cell_type": "markdown",
   "id": "7dcaf2c2",
   "metadata": {
    "papermill": {
     "duration": 0.014966,
     "end_time": "2024-08-27T21:37:21.603611",
     "exception": false,
     "start_time": "2024-08-27T21:37:21.588645",
     "status": "completed"
    },
    "tags": []
   },
   "source": [
    "Let's plot confusion matrix of prediction result:"
   ]
  },
  {
   "cell_type": "code",
   "execution_count": 12,
   "id": "b7fe3440",
   "metadata": {
    "execution": {
     "iopub.execute_input": "2024-08-27T21:37:21.636691Z",
     "iopub.status.busy": "2024-08-27T21:37:21.635632Z",
     "iopub.status.idle": "2024-08-27T21:37:21.865877Z",
     "shell.execute_reply": "2024-08-27T21:37:21.864444Z"
    },
    "papermill": {
     "duration": 0.249717,
     "end_time": "2024-08-27T21:37:21.868662",
     "exception": false,
     "start_time": "2024-08-27T21:37:21.618945",
     "status": "completed"
    },
    "tags": []
   },
   "outputs": [
    {
     "data": {
      "image/png": "[encoded data removed]",
      "text/plain": [
       "<Figure size 800x600 with 1 Axes>"
      ]
     },
     "metadata": {},
     "output_type": "display_data"
    }
   ],
   "source": [
    "# Compute the confusion matrix\n",
    "cm = confusion_matrix(y_test, y_pred)\n",
    "\n",
    "# Plot the confusion matrix using seaborn\n",
    "plt.figure(figsize=(8, 6))\n",
    "sns.heatmap(cm, annot=True, fmt=\"d\", cmap=\"Blues\", cbar=False)\n",
    "plt.xlabel(\"Predicted\")\n",
    "plt.ylabel(\"Actual\")\n",
    "plt.title(\"Confusion Matrix\")\n",
    "plt.show()"
   ]
  },
  {
   "cell_type": "markdown",
   "id": "62032a06",
   "metadata": {
    "papermill": {
     "duration": 0.015815,
     "end_time": "2024-08-27T21:37:21.900888",
     "exception": false,
     "start_time": "2024-08-27T21:37:21.885073",
     "status": "completed"
    },
    "tags": []
   },
   "source": [
    "### Next Steps:\n",
    "\n",
    "1. **Feature Engineering**:\n",
    "   - Analyze feature importance.\n",
    "   - Create interaction terms or new features that might improve the model.\n",
    "   \n",
    "2. **Model Improvement**:\n",
    "   - Try more complex models like Random Forest or Gradient Boosting.\n",
    "   - Perform hyperparameter tuning.\n",
    "   - Address class imbalance using techniques like SMOTE (Synthetic Minority Over-sampling Technique).\n"
   ]
  },
  {
   "cell_type": "markdown",
   "id": "0be047de",
   "metadata": {
    "papermill": {
     "duration": 0.015852,
     "end_time": "2024-08-27T21:37:21.932861",
     "exception": false,
     "start_time": "2024-08-27T21:37:21.917009",
     "status": "completed"
    },
    "tags": []
   },
   "source": [
    "\n",
    "\n",
    "### Step 8: Feature Engineering\n",
    "Feature engineering involves creating new features or modifying existing ones to improve the performance of the model. Here are a few approaches we can take:\n",
    "\n",
    "1. **Interaction Features:** Creating interaction terms between features that might have a combined effect on the target variable.\n",
    "2. **Polynomial Features:** Adding polynomial features to capture non-linear relationships.\n",
    "3. **Feature Scaling:** Standardizing or normalizing the numerical features to ensure that they contribute equally to the model.\n",
    "4. **Feature Selection:** Identifying and selecting the most relevant features to reduce dimensionality and improve model performance.\n",
    "\n",
    "\n",
    "#### Step 8.1: Feature Scaling\n",
    "Let's start by scaling the numerical features using StandardScaler. This ensures that all features contribute equally to the model, especially for models like Logistic Regression."
   ]
  },
  {
   "cell_type": "code",
   "execution_count": 13,
   "id": "21a0afb9",
   "metadata": {
    "execution": {
     "iopub.execute_input": "2024-08-27T21:37:21.966547Z",
     "iopub.status.busy": "2024-08-27T21:37:21.966104Z",
     "iopub.status.idle": "2024-08-27T21:37:21.985036Z",
     "shell.execute_reply": "2024-08-27T21:37:21.983850Z"
    },
    "papermill": {
     "duration": 0.039271,
     "end_time": "2024-08-27T21:37:21.988039",
     "exception": false,
     "start_time": "2024-08-27T21:37:21.948768",
     "status": "completed"
    },
    "tags": []
   },
   "outputs": [],
   "source": [
    "# Initialize the scaler\n",
    "scaler = StandardScaler()\n",
    "\n",
    "# Scale the numerical features\n",
    "numerical_features = ['age', 'fnlwgt', 'educational-num', 'capital-gain', 'capital-loss', 'hours-per-week']\n",
    "X_train[numerical_features] = scaler.fit_transform(X_train[numerical_features])\n",
    "X_test[numerical_features] = scaler.transform(X_test[numerical_features])\n"
   ]
  },
  {
   "cell_type": "markdown",
   "id": "595027b1",
   "metadata": {
    "papermill": {
     "duration": 0.016163,
     "end_time": "2024-08-27T21:37:22.020232",
     "exception": false,
     "start_time": "2024-08-27T21:37:22.004069",
     "status": "completed"
    },
    "tags": []
   },
   "source": [
    "The numerical features have been successfully scaled. Now, let's proceed to improve the model by using a more complex algorithm, such as **Random Forest**, which can handle non-linear relationships and interactions between features more effectively."
   ]
  },
  {
   "cell_type": "markdown",
   "id": "dca368bb",
   "metadata": {
    "papermill": {
     "duration": 0.016306,
     "end_time": "2024-08-27T21:37:22.053039",
     "exception": false,
     "start_time": "2024-08-27T21:37:22.036733",
     "status": "completed"
    },
    "tags": []
   },
   "source": [
    "### Step 9: Model Improvement with Random Forest"
   ]
  },
  {
   "cell_type": "code",
   "execution_count": 14,
   "id": "50832aff",
   "metadata": {
    "execution": {
     "iopub.execute_input": "2024-08-27T21:37:22.088330Z",
     "iopub.status.busy": "2024-08-27T21:37:22.087909Z",
     "iopub.status.idle": "2024-08-27T21:37:29.422852Z",
     "shell.execute_reply": "2024-08-27T21:37:29.421466Z"
    },
    "papermill": {
     "duration": 7.356227,
     "end_time": "2024-08-27T21:37:29.425885",
     "exception": false,
     "start_time": "2024-08-27T21:37:22.069658",
     "status": "completed"
    },
    "tags": []
   },
   "outputs": [],
   "source": [
    "from sklearn.ensemble import RandomForestClassifier\n",
    "\n",
    "# Initialize the Random Forest model\n",
    "rf_model = RandomForestClassifier(n_estimators=100, random_state=42)\n",
    "\n",
    "# Train the model \n",
    "rf_model.fit(X_train, y_train)\n",
    "\n",
    "# Predict on the test set\n",
    "y_pred_rf = rf_model.predict(X_test)\n",
    "\n",
    "# Evaluate the model \n",
    "accuracy_rf = accuracy_score(y_test, y_pred_rf)\n",
    "report_rf = classification_report(y_test, y_pred_rf)\n",
    "\n"
   ]
  },
  {
   "cell_type": "code",
   "execution_count": 15,
   "id": "81082a94",
   "metadata": {
    "execution": {
     "iopub.execute_input": "2024-08-27T21:37:29.459742Z",
     "iopub.status.busy": "2024-08-27T21:37:29.459267Z",
     "iopub.status.idle": "2024-08-27T21:37:29.465482Z",
     "shell.execute_reply": "2024-08-27T21:37:29.464266Z"
    },
    "papermill": {
     "duration": 0.027424,
     "end_time": "2024-08-27T21:37:29.469211",
     "exception": false,
     "start_time": "2024-08-27T21:37:29.441787",
     "status": "completed"
    },
    "tags": []
   },
   "outputs": [
    {
     "name": "stdout",
     "output_type": "stream",
     "text": [
      "0.8044086535180509\n",
      "              precision    recall  f1-score   support\n",
      "\n",
      "       False       0.89      0.93      0.91     11233\n",
      "        True       0.73      0.64      0.68      3420\n",
      "\n",
      "    accuracy                           0.86     14653\n",
      "   macro avg       0.81      0.78      0.80     14653\n",
      "weighted avg       0.86      0.86      0.86     14653\n",
      "\n"
     ]
    }
   ],
   "source": [
    "print(accuracy)\n",
    "print(report_rf)"
   ]
  },
  {
   "cell_type": "code",
   "execution_count": 16,
   "id": "63fab50d",
   "metadata": {
    "execution": {
     "iopub.execute_input": "2024-08-27T21:37:29.504296Z",
     "iopub.status.busy": "2024-08-27T21:37:29.503792Z",
     "iopub.status.idle": "2024-08-27T21:37:29.704628Z",
     "shell.execute_reply": "2024-08-27T21:37:29.703243Z"
    },
    "papermill": {
     "duration": 0.221931,
     "end_time": "2024-08-27T21:37:29.707367",
     "exception": false,
     "start_time": "2024-08-27T21:37:29.485436",
     "status": "completed"
    },
    "tags": []
   },
   "outputs": [
    {
     "data": {
      "image/png": "[encoded data removed]",
      "text/plain": [
       "<Figure size 800x600 with 1 Axes>"
      ]
     },
     "metadata": {},
     "output_type": "display_data"
    }
   ],
   "source": [
    "# Compute the confusion matrix\n",
    "cm = confusion_matrix(y_test, y_pred_rf)\n",
    "\n",
    "# Plot the confusion matrix using seaborn\n",
    "plt.figure(figsize=(8, 6))\n",
    "sns.heatmap(cm, annot=True, fmt=\"d\", cmap=\"Blues\", cbar=False)\n",
    "plt.xlabel(\"Predicted\")\n",
    "plt.ylabel(\"Actual\")\n",
    "plt.title(\"Confusion Matrix\")\n",
    "plt.show()"
   ]
  },
  {
   "cell_type": "markdown",
   "id": "fa6eecbe",
   "metadata": {
    "papermill": {
     "duration": 0.016334,
     "end_time": "2024-08-27T21:37:29.740419",
     "exception": false,
     "start_time": "2024-08-27T21:37:29.724085",
     "status": "completed"
    },
    "tags": []
   },
   "source": [
    "\n",
    "### Step 9.1: Model Evaluation\n",
    "\n",
    "The Random Forest model achieved the following performance on the test set:\n",
    "\n",
    "- **Accuracy**: 86.21%\n",
    "- **Classification Report**:\n",
    "  - **Class 0 (<=50K)**:\n",
    "    - Precision: 0.89\n",
    "    - Recall: 0.93\n",
    "    - F1-Score: 0.91\n",
    "  - **Class 1 (>50K)**:\n",
    "    - Precision: 0.74\n",
    "    - Recall: 0.64\n",
    "    - F1-Score: 0.68\n",
    "\n",
    "### Analysis:\n",
    "- The Random Forest model significantly improves over the Logistic Regression model, especially in predicting the minority class (>50K).\n",
    "- The overall accuracy has increased, and the F1-score for the minority class is notably better.\n",
    "\n",
    "### Next Steps:\n",
    "1. **Hyperparameter Tuning**: Further improve the Random Forest model by tuning hyperparameters such as the number of trees, max depth, and minimum samples per split.\n",
    "2. **Feature Importance**: Analyze feature importance to understand which features contribute the most to the model's predictions.\n",
    "3. **Ensemble Methods**: Experiment with other ensemble methods like Gradient Boosting or XGBoost for potentially even better performance.\n"
   ]
  },
  {
   "cell_type": "markdown",
   "id": "5e473a02",
   "metadata": {
    "papermill": {
     "duration": 0.016353,
     "end_time": "2024-08-27T21:37:29.773678",
     "exception": false,
     "start_time": "2024-08-27T21:37:29.757325",
     "status": "completed"
    },
    "tags": []
   },
   "source": [
    "### Step 10: Analyze and Visualize Feature Importance\n",
    "\n",
    "Random Forest models provide a way to measure the importance of each feature based on how much they contribute to reducing the impurity (e.g., Gini impurity or entropy) at each split in the trees.\n",
    "\n",
    "Let's extract the feature importance from the Random Forest model and visualize it to identify which features are the most influential in predicting the target variable.\n",
    "\n",
    "#### 10.1: Extract and Sort Feature Importances\n"
   ]
  },
  {
   "cell_type": "code",
   "execution_count": 17,
   "id": "d7f25011",
   "metadata": {
    "execution": {
     "iopub.execute_input": "2024-08-27T21:37:29.808657Z",
     "iopub.status.busy": "2024-08-27T21:37:29.808203Z",
     "iopub.status.idle": "2024-08-27T21:37:29.847812Z",
     "shell.execute_reply": "2024-08-27T21:37:29.846408Z"
    },
    "papermill": {
     "duration": 0.060337,
     "end_time": "2024-08-27T21:37:29.850436",
     "exception": false,
     "start_time": "2024-08-27T21:37:29.790099",
     "status": "completed"
    },
    "tags": []
   },
   "outputs": [
    {
     "data": {
      "text/html": [
       "<div>\n",
       "<style scoped>\n",
       "    .dataframe tbody tr th:only-of-type {\n",
       "        vertical-align: middle;\n",
       "    }\n",
       "\n",
       "    .dataframe tbody tr th {\n",
       "        vertical-align: top;\n",
       "    }\n",
       "\n",
       "    .dataframe thead th {\n",
       "        text-align: right;\n",
       "    }\n",
       "</style>\n",
       "<table border=\"1\" class=\"dataframe\">\n",
       "  <thead>\n",
       "    <tr style=\"text-align: right;\">\n",
       "      <th></th>\n",
       "      <th>Feature</th>\n",
       "      <th>Importance</th>\n",
       "    </tr>\n",
       "  </thead>\n",
       "  <tbody>\n",
       "    <tr>\n",
       "      <th>1</th>\n",
       "      <td>fnlwgt</td>\n",
       "      <td>0.170922</td>\n",
       "    </tr>\n",
       "    <tr>\n",
       "      <th>0</th>\n",
       "      <td>age</td>\n",
       "      <td>0.157561</td>\n",
       "    </tr>\n",
       "    <tr>\n",
       "      <th>3</th>\n",
       "      <td>capital-gain</td>\n",
       "      <td>0.090301</td>\n",
       "    </tr>\n",
       "    <tr>\n",
       "      <th>5</th>\n",
       "      <td>hours-per-week</td>\n",
       "      <td>0.087196</td>\n",
       "    </tr>\n",
       "    <tr>\n",
       "      <th>29</th>\n",
       "      <td>marital-status_Married-civ-spouse</td>\n",
       "      <td>0.083250</td>\n",
       "    </tr>\n",
       "    <tr>\n",
       "      <th>2</th>\n",
       "      <td>educational-num</td>\n",
       "      <td>0.068235</td>\n",
       "    </tr>\n",
       "    <tr>\n",
       "      <th>31</th>\n",
       "      <td>marital-status_Never-married</td>\n",
       "      <td>0.036902</td>\n",
       "    </tr>\n",
       "    <tr>\n",
       "      <th>4</th>\n",
       "      <td>capital-loss</td>\n",
       "      <td>0.032152</td>\n",
       "    </tr>\n",
       "    <tr>\n",
       "      <th>47</th>\n",
       "      <td>relationship_Not-in-family</td>\n",
       "      <td>0.017395</td>\n",
       "    </tr>\n",
       "    <tr>\n",
       "      <th>36</th>\n",
       "      <td>occupation_Exec-managerial</td>\n",
       "      <td>0.017053</td>\n",
       "    </tr>\n",
       "  </tbody>\n",
       "</table>\n",
       "</div>"
      ],
      "text/plain": [
       "                              Feature  Importance\n",
       "1                              fnlwgt    0.170922\n",
       "0                                 age    0.157561\n",
       "3                        capital-gain    0.090301\n",
       "5                      hours-per-week    0.087196\n",
       "29  marital-status_Married-civ-spouse    0.083250\n",
       "2                     educational-num    0.068235\n",
       "31       marital-status_Never-married    0.036902\n",
       "4                        capital-loss    0.032152\n",
       "47         relationship_Not-in-family    0.017395\n",
       "36         occupation_Exec-managerial    0.017053"
      ]
     },
     "execution_count": 17,
     "metadata": {},
     "output_type": "execute_result"
    }
   ],
   "source": [
    "importances = rf_model.feature_importances_\n",
    "# create a DF for visualzation\n",
    "# Create a DataFrame for visualization\n",
    "feature_importance_df = pd.DataFrame({\n",
    "    'Feature': X_train.columns,\n",
    "    'Importance': importances\n",
    "}).sort_values(by='Importance', ascending=False)\n",
    "\n",
    "# Display the top 10 most important features\n",
    "feature_importance_df.head(10)"
   ]
  },
  {
   "cell_type": "markdown",
   "id": "f3722d64",
   "metadata": {
    "papermill": {
     "duration": 0.016346,
     "end_time": "2024-08-27T21:37:29.883614",
     "exception": false,
     "start_time": "2024-08-27T21:37:29.867268",
     "status": "completed"
    },
    "tags": []
   },
   "source": [
    "#### 10.2 Visualize Feature Importances"
   ]
  },
  {
   "cell_type": "markdown",
   "id": "e3c04b8e",
   "metadata": {
    "papermill": {
     "duration": 0.016517,
     "end_time": "2024-08-27T21:37:29.916848",
     "exception": false,
     "start_time": "2024-08-27T21:37:29.900331",
     "status": "completed"
    },
    "tags": []
   },
   "source": [
    "Here's the bar plot showing the top 10 most important features in the Random Forest model. These features play a significant role in predicting whether an individual's income is greater than $50K.\n"
   ]
  },
  {
   "cell_type": "code",
   "execution_count": 18,
   "id": "a4a4eba4",
   "metadata": {
    "execution": {
     "iopub.execute_input": "2024-08-27T21:37:29.952887Z",
     "iopub.status.busy": "2024-08-27T21:37:29.951932Z",
     "iopub.status.idle": "2024-08-27T21:37:30.272309Z",
     "shell.execute_reply": "2024-08-27T21:37:30.271061Z"
    },
    "papermill": {
     "duration": 0.341384,
     "end_time": "2024-08-27T21:37:30.274991",
     "exception": false,
     "start_time": "2024-08-27T21:37:29.933607",
     "status": "completed"
    },
    "tags": []
   },
   "outputs": [
    {
     "data": {
      "image/png": "[encoded data removed]",
      "text/plain": [
       "<Figure size 1000x600 with 1 Axes>"
      ]
     },
     "metadata": {},
     "output_type": "display_data"
    }
   ],
   "source": [
    "# Plot the top 10 feature importances\n",
    "plt.figure(figsize=(10, 6))\n",
    "sns.barplot(x='Importance', y='Feature', data=feature_importance_df.head(10))\n",
    "plt.title('Top 10 Feature Importances')\n",
    "plt.show()\n"
   ]
  },
  {
   "cell_type": "markdown",
   "id": "639482c2",
   "metadata": {
    "papermill": {
     "duration": 0.017541,
     "end_time": "2024-08-27T21:37:30.367110",
     "exception": false,
     "start_time": "2024-08-27T21:37:30.349569",
     "status": "completed"
    },
    "tags": []
   },
   "source": [
    "\n",
    "\n",
    "### Top 10 Most Important Features\n",
    "\n",
    "Here are the top 10 most important features according to the Random Forest model:\n",
    "\n",
    "1. **fnlwgt** (16.73%)\n",
    "2. **age** (15.27%)\n",
    "3. **capital-gain** (9.99%)\n",
    "4. **hours-per-week** (8.34%)\n",
    "5. **marital-status_Married-civ-spouse** (8.04%)\n",
    "6. **educational-num** (6.03%)\n",
    "7. **marital-status_Never-married** (3.39%)\n",
    "8. **capital-loss** (3.22%)\n",
    "9. **relationship_Not-in-family** (1.87%)\n",
    "10. **gender_Male** (1.74%)\n",
    "\n",
    "These features contribute the most to the predictions made by the model."
   ]
  },
  {
   "cell_type": "markdown",
   "id": "19317152",
   "metadata": {
    "papermill": {
     "duration": 0.019057,
     "end_time": "2024-08-27T21:37:30.403982",
     "exception": false,
     "start_time": "2024-08-27T21:37:30.384925",
     "status": "completed"
    },
    "tags": []
   },
   "source": [
    "**Still we have a lot misclassification in the confusion matrix. Here are some approaches to reduce misclassification:**"
   ]
  },
  {
   "cell_type": "markdown",
   "id": "c27d77da",
   "metadata": {
    "papermill": {
     "duration": 0.017538,
     "end_time": "2024-08-27T21:37:30.439332",
     "exception": false,
     "start_time": "2024-08-27T21:37:30.421794",
     "status": "completed"
    },
    "tags": []
   },
   "source": [
    "### 1. **Hyperparameter Tuning**\n",
    "   - **Adjust Model Complexity**: Tuning hyperparameters like the depth of trees, number of trees, minimum samples per leaf, etc., can help reduce overfitting or underfitting.\n",
    "   - **Grid Search/Random Search**: Use techniques like Grid Search or Random Search to find the optimal set of hyperparameters.\n",
    "\n"
   ]
  },
  {
   "cell_type": "code",
   "execution_count": 19,
   "id": "238f23ea",
   "metadata": {
    "execution": {
     "iopub.execute_input": "2024-08-27T21:37:30.477133Z",
     "iopub.status.busy": "2024-08-27T21:37:30.476688Z",
     "iopub.status.idle": "2024-08-27T21:59:56.649295Z",
     "shell.execute_reply": "2024-08-27T21:59:56.648111Z"
    },
    "papermill": {
     "duration": 1346.195073,
     "end_time": "2024-08-27T21:59:56.652372",
     "exception": false,
     "start_time": "2024-08-27T21:37:30.457299",
     "status": "completed"
    },
    "tags": []
   },
   "outputs": [],
   "source": [
    "from sklearn.model_selection import GridSearchCV\n",
    "\n",
    "# Example for Random Forest\n",
    "param_grid = {\n",
    "    'n_estimators': [100, 200, 500],\n",
    "    'max_depth': [10, 20, 30],\n",
    "    'min_samples_split': [2, 5, 10]\n",
    "}\n",
    "\n",
    "grid_search = GridSearchCV(rf_model, param_grid, cv=5, scoring='accuracy')\n",
    "grid_search.fit(X_train, y_train)\n",
    "best_model = grid_search.best_estimator_\n"
   ]
  },
  {
   "cell_type": "code",
   "execution_count": 20,
   "id": "f848a0de",
   "metadata": {
    "execution": {
     "iopub.execute_input": "2024-08-27T21:59:56.690300Z",
     "iopub.status.busy": "2024-08-27T21:59:56.689883Z",
     "iopub.status.idle": "2024-08-27T21:59:57.362756Z",
     "shell.execute_reply": "2024-08-27T21:59:57.361274Z"
    },
    "papermill": {
     "duration": 0.695231,
     "end_time": "2024-08-27T21:59:57.365668",
     "exception": false,
     "start_time": "2024-08-27T21:59:56.670437",
     "status": "completed"
    },
    "tags": []
   },
   "outputs": [
    {
     "name": "stdout",
     "output_type": "stream",
     "text": [
      "0.8708114379307992\n",
      "              precision    recall  f1-score   support\n",
      "\n",
      "       False       0.89      0.95      0.92     11233\n",
      "        True       0.79      0.60      0.69      3420\n",
      "\n",
      "    accuracy                           0.87     14653\n",
      "   macro avg       0.84      0.78      0.80     14653\n",
      "weighted avg       0.87      0.87      0.86     14653\n",
      "\n"
     ]
    }
   ],
   "source": [
    "# Predict on the test set\n",
    "y_pred_rf_best = best_model.predict(X_test)\n",
    "\n",
    "# Evaluate the model \n",
    "accuracy_rf_best = accuracy_score(y_test, y_pred_rf_best)\n",
    "report_rf_best = classification_report(y_test, y_pred_rf_best)\n",
    "print(accuracy_rf_best)\n",
    "print(report_rf_best)"
   ]
  },
  {
   "cell_type": "code",
   "execution_count": 21,
   "id": "570de3f6",
   "metadata": {
    "execution": {
     "iopub.execute_input": "2024-08-27T21:59:57.403506Z",
     "iopub.status.busy": "2024-08-27T21:59:57.403042Z",
     "iopub.status.idle": "2024-08-27T21:59:57.610100Z",
     "shell.execute_reply": "2024-08-27T21:59:57.608831Z"
    },
    "papermill": {
     "duration": 0.229099,
     "end_time": "2024-08-27T21:59:57.612815",
     "exception": false,
     "start_time": "2024-08-27T21:59:57.383716",
     "status": "completed"
    },
    "tags": []
   },
   "outputs": [
    {
     "data": {
      "image/png": "[encoded data removed]",
      "text/plain": [
       "<Figure size 800x600 with 1 Axes>"
      ]
     },
     "metadata": {},
     "output_type": "display_data"
    }
   ],
   "source": [
    "# Compute the confusion matrix\n",
    "cm = confusion_matrix(y_test, y_pred_rf_best)\n",
    "\n",
    "# Plot the confusion matrix using seaborn\n",
    "plt.figure(figsize=(8, 6))\n",
    "sns.heatmap(cm, annot=True, fmt=\"d\", cmap=\"Blues\", cbar=False)\n",
    "plt.xlabel(\"Predicted\")\n",
    "plt.ylabel(\"Actual\")\n",
    "plt.title(\"Confusion Matrix of Best Model\")\n",
    "plt.show()"
   ]
  },
  {
   "cell_type": "markdown",
   "id": "6b5a50ae",
   "metadata": {
    "papermill": {
     "duration": 0.018025,
     "end_time": "2024-08-27T21:59:57.649303",
     "exception": false,
     "start_time": "2024-08-27T21:59:57.631278",
     "status": "completed"
    },
    "tags": []
   },
   "source": [
    "### 2. **Addressing Class Imbalance**\n",
    "   - **Oversampling/Undersampling**: Techniques like SMOTE (Synthetic Minority Over-sampling Technique) can help balance the classes.\n",
    "   - **Class Weight Adjustment**: For models like Random Forest or Logistic Regression, adjusting the class weights can make the model pay more attention to the minority class.\n"
   ]
  },
  {
   "cell_type": "markdown",
   "id": "21c9e989",
   "metadata": {
    "papermill": {
     "duration": 0.017975,
     "end_time": "2024-08-27T21:59:57.685848",
     "exception": false,
     "start_time": "2024-08-27T21:59:57.667873",
     "status": "completed"
    },
    "tags": []
   },
   "source": [
    "### 3. **Feature Engineering**\n",
    "   - **Create New Features**: Add new features that capture important interactions or non-linearities.\n",
    "   - **Feature Selection**: Use techniques like Recursive Feature Elimination (RFE) to select the most predictive features.\n",
    "   - **Polynomial Features**: Introduce polynomial features if you believe the relationships between features are non-linear.\n",
    "\n",
    "\n",
    "### 4. **Ensemble Methods**\n",
    "   - **Boosting**: Use ensemble methods like Gradient Boosting Machines (GBM), XGBoost, or LightGBM, which often improve prediction accuracy by focusing on the mistakes made by previous models.\n",
    "   - **Stacking**: Combine multiple models to improve overall predictive power.\n",
    "\n",
    "### 5. **Model Evaluation Metrics**\n",
    "   - **Threshold Adjustment**: For probabilistic models, adjusting the decision threshold can help minimize misclassification by optimizing for specific metrics like precision, recall, or F1-score.\n",
    "   - **Cost-Sensitive Learning**: Assign different penalties to misclassification errors, making the model more cautious about certain types of errors.\n",
    "\n",
    "### 6. **Cross-Validation**\n",
    "   - **K-Fold Cross-Validation**: Ensures that the model generalizes well to unseen data, reducing the risk of overfitting.\n",
    "\n",
    "### 7. **Data Augmentation and Quality**\n",
    "   - **Data Augmentation**: For imbalanced datasets, augmenting data to increase the representation of minority classes can help.\n",
    "   - **Data Cleaning**: Remove or correct noisy data, which can mislead the model.\n",
    "\n",
    "\n"
   ]
  },
  {
   "cell_type": "markdown",
   "id": "a50cfeff",
   "metadata": {
    "papermill": {
     "duration": 0.01845,
     "end_time": "2024-08-27T21:59:57.722496",
     "exception": false,
     "start_time": "2024-08-27T21:59:57.704046",
     "status": "completed"
    },
    "tags": []
   },
   "source": [
    "Please like 👍 and share notebook. "
   ]
  }
 ],
 "metadata": {
  "kaggle": {
   "accelerator": "none",
   "dataSources": [
    {
     "datasetId": 222,
     "sourceId": 472,
     "sourceType": "datasetVersion"
    }
   ],
   "dockerImageVersionId": 30761,
   "isGpuEnabled": false,
   "isInternetEnabled": true,
   "language": "python",
   "sourceType": "notebook"
  },
  "kernelspec": {
   "display_name": "Python 3",
   "language": "python",
   "name": "python3"
  },
  "language_info": {
   "codemirror_mode": {
    "name": "ipython",
    "version": 3
   },
   "file_extension": ".py",
   "mimetype": "text/x-python",
   "name": "python",
   "nbconvert_exporter": "python",
   "pygments_lexer": "ipython3",
   "version": "3.10.14"
  },
  "papermill": {
   "default_parameters": {},
   "duration": 1365.281298,
   "end_time": "2024-08-27T21:59:58.465068",
   "environment_variables": {},
   "exception": null,
   "input_path": "__notebook__.ipynb",
   "output_path": "__notebook__.ipynb",
   "parameters": {},
   "start_time": "2024-08-27T21:37:13.183770",
   "version": "2.6.0"
  }
 },
 "nbformat": 4,
 "nbformat_minor": 5
}
